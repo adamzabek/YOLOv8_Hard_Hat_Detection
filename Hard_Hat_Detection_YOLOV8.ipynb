{
 "cells": [
  {
   "cell_type": "code",
   "execution_count": 1,
   "metadata": {
    "executionInfo": {
     "elapsed": 2647,
     "status": "ok",
     "timestamp": 1696443457282,
     "user": {
      "displayName": "Adam Ząbek",
      "userId": "13705319654625362155"
     },
     "user_tz": -120
    },
    "id": "V4ZCJEJhMcW9"
   },
   "outputs": [],
   "source": [
    "import os\n",
    "import numpy as np\n",
    "import pandas as pd\n",
    "import sys\n",
    "import yaml\n",
    "\n",
    "#sys.path.append('/content/drive/MyDrive/Hard_Hat_Detection')\n",
    "\n",
    "from pathlib import Path\n",
    "from shutil import copyfile\n",
    "from xml.dom.minidom import parse\n",
    "from sklearn.model_selection import train_test_split\n",
    "from xml_to_txt import get_xml_data, save_txt_file, convert_annot\n",
    "from create_train_val_test import create_train_val_test"
   ]
  },
  {
   "cell_type": "code",
   "execution_count": 2,
   "metadata": {
    "colab": {
     "base_uri": "https://localhost:8080/"
    },
    "executionInfo": {
     "elapsed": 6990,
     "status": "ok",
     "timestamp": 1696442617274,
     "user": {
      "displayName": "Adam Ząbek",
      "userId": "13705319654625362155"
     },
     "user_tz": -120
    },
    "id": "UD90wneurcJJ",
    "outputId": "90642358-33e6-4411-88dc-5ead052594d9"
   },
   "outputs": [],
   "source": [
    "#!git clone https://github.com/ultralytics/ultralytics\n",
    "#!pip install ultralytics"
   ]
  },
  {
   "cell_type": "code",
   "execution_count": 3,
   "metadata": {
    "executionInfo": {
     "elapsed": 517,
     "status": "ok",
     "timestamp": 1696443470091,
     "user": {
      "displayName": "Adam Ząbek",
      "userId": "13705319654625362155"
     },
     "user_tz": -120
    },
    "id": "aSPpXTr9sRVY"
   },
   "outputs": [],
   "source": [
    "path_to_annotations = './annotation'\n",
    "path_to_labels = './labels'\n",
    "path_to_images = './images'"
   ]
  },
  {
   "cell_type": "code",
   "execution_count": 4,
   "metadata": {
    "executionInfo": {
     "elapsed": 230,
     "status": "ok",
     "timestamp": 1696443471611,
     "user": {
      "displayName": "Adam Ząbek",
      "userId": "13705319654625362155"
     },
     "user_tz": -120
    },
    "id": "eGRAQB-_KIrA"
   },
   "outputs": [],
   "source": [
    "classes = ['helmet','head','person']"
   ]
  },
  {
   "cell_type": "code",
   "execution_count": 5,
   "metadata": {
    "executionInfo": {
     "elapsed": 167444,
     "status": "ok",
     "timestamp": 1696443640020,
     "user": {
      "displayName": "Adam Ząbek",
      "userId": "13705319654625362155"
     },
     "user_tz": -120
    },
    "id": "Nc5F-HDoKIo7"
   },
   "outputs": [],
   "source": [
    "files = os.listdir(path_to_annotations)\n",
    "for file in files:\n",
    "    file_xml = file.split(\".\")\n",
    "    get_xml_data(classes, path_to_annotations, path_to_labels, file_xml[0])"
   ]
  },
  {
   "cell_type": "code",
   "execution_count": 5,
   "metadata": {
    "colab": {
     "base_uri": "https://localhost:8080/"
    },
    "executionInfo": {
     "elapsed": 11,
     "status": "ok",
     "timestamp": 1696443640021,
     "user": {
      "displayName": "Adam Ząbek",
      "userId": "13705319654625362155"
     },
     "user_tz": -120
    },
    "id": "jE6U9Ktu-bpp",
    "outputId": "92a7faf0-3264-4c8e-ae37-f24f786eb90d"
   },
   "outputs": [
    {
     "name": "stdout",
     "output_type": "stream",
     "text": [
      "total = 5000\n",
      "train : 4000\n",
      "val   : 500\n",
      "test  : 500\n"
     ]
    }
   ],
   "source": [
    "image_list = os.listdir(path_to_images)\n",
    "train_list, test_list = train_test_split(image_list, test_size=0.2, random_state=0)\n",
    "val_list, test_list = train_test_split(test_list, test_size=0.5, random_state=0)\n",
    "print('total =',len(image_list))\n",
    "print('train :',len(train_list))\n",
    "print('val   :',len(val_list))\n",
    "print('test  :',len(test_list))"
   ]
  },
  {
   "cell_type": "code",
   "execution_count": 6,
   "metadata": {
    "executionInfo": {
     "elapsed": 408,
     "status": "ok",
     "timestamp": 1696443653960,
     "user": {
      "displayName": "Adam Ząbek",
      "userId": "13705319654625362155"
     },
     "user_tz": -120
    },
    "id": "xUOXyc2tudIR"
   },
   "outputs": [],
   "source": [
    "modes = ['train']"
   ]
  },
  {
   "cell_type": "code",
   "execution_count": 7,
   "metadata": {
    "colab": {
     "base_uri": "https://localhost:8080/",
     "height": 338
    },
    "executionInfo": {
     "elapsed": 567,
     "status": "error",
     "timestamp": 1696443759834,
     "user": {
      "displayName": "Adam Ząbek",
      "userId": "13705319654625362155"
     },
     "user_tz": -120
    },
    "id": "k6iLovxLuAAf",
    "outputId": "bc4eec0b-a709-48ac-88fb-38af7379a7dc"
   },
   "outputs": [
    {
     "name": "stdout",
     "output_type": "stream",
     "text": [
      "Path images\\train does not exit\n",
      "Path labels\\train does not exit\n"
     ]
    }
   ],
   "source": [
    "create_train_val_test(path_to_images, path_to_labels, train_list, modes)"
   ]
  },
  {
   "cell_type": "code",
   "execution_count": null,
   "metadata": {
    "id": "nGVyb1tyyPld"
   },
   "outputs": [],
   "source": [
    "modes = ['test']"
   ]
  },
  {
   "cell_type": "code",
   "execution_count": null,
   "metadata": {
    "id": "0mQGbIibyPba"
   },
   "outputs": [],
   "source": [
    "create_train_val_test(path_to_images, path_to_labels, test_list, modes)"
   ]
  },
  {
   "cell_type": "code",
   "execution_count": null,
   "metadata": {
    "id": "0g6wtEVFyT4n"
   },
   "outputs": [],
   "source": [
    "modes = ['val']"
   ]
  },
  {
   "cell_type": "code",
   "execution_count": null,
   "metadata": {
    "id": "Y512R1f-yTw3"
   },
   "outputs": [],
   "source": [
    "create_train_val_test(path_to_images, path_to_labels, val_list, modes)"
   ]
  },
  {
   "cell_type": "code",
   "execution_count": null,
   "metadata": {
    "id": "rRZuWVGUKIhO"
   },
   "outputs": [],
   "source": [
    "config = {\n",
    "   \"path\": \"/kaggle/working/Dataset/images\",\n",
    "   \"train\": \"train\",\n",
    "   \"val\": \"val\",\n",
    "   \"test\": \"test\",\n",
    "   \"nc\": 3,\n",
    "   \"names\": ['helmet','head','person']\n",
    "}\n",
    "with open(\"data.yaml\", \"w\") as file:\n",
    "    yaml.dump(config, file, default_flow_style=False)"
   ]
  },
  {
   "cell_type": "code",
   "execution_count": null,
   "metadata": {
    "id": "PWHy-85IKIep"
   },
   "outputs": [],
   "source": [
    "!cat data.yaml"
   ]
  },
  {
   "cell_type": "code",
   "execution_count": null,
   "metadata": {
    "id": "sLRWnNgaKIcg"
   },
   "outputs": [],
   "source": [
    "!wandb disabled"
   ]
  },
  {
   "cell_type": "code",
   "execution_count": null,
   "metadata": {
    "id": "zrgdQ6IyKIZ8"
   },
   "outputs": [],
   "source": [
    "!yolo task=detect mode=train data=data.yaml model=yolov8s.pt epochs=20 lr0=0.01"
   ]
  },
  {
   "cell_type": "code",
   "execution_count": null,
   "metadata": {
    "id": "-R4GoopOKIXw"
   },
   "outputs": [],
   "source": []
  },
  {
   "cell_type": "code",
   "execution_count": null,
   "metadata": {
    "id": "UFTrmxUWKIUz"
   },
   "outputs": [],
   "source": []
  },
  {
   "cell_type": "code",
   "execution_count": null,
   "metadata": {
    "id": "hJ0AK3JKKISS"
   },
   "outputs": [],
   "source": []
  },
  {
   "cell_type": "code",
   "execution_count": null,
   "metadata": {
    "id": "_oIwROCCKIPr"
   },
   "outputs": [],
   "source": []
  },
  {
   "cell_type": "code",
   "execution_count": null,
   "metadata": {
    "id": "BreL1DoeKINS"
   },
   "outputs": [],
   "source": []
  },
  {
   "cell_type": "code",
   "execution_count": null,
   "metadata": {
    "id": "I6dZRdt3KIKn"
   },
   "outputs": [],
   "source": []
  },
  {
   "cell_type": "code",
   "execution_count": null,
   "metadata": {
    "id": "eRXrdX1uKIIe"
   },
   "outputs": [],
   "source": []
  },
  {
   "cell_type": "code",
   "execution_count": null,
   "metadata": {
    "id": "Cl6Lb6-uKIGJ"
   },
   "outputs": [],
   "source": []
  },
  {
   "cell_type": "code",
   "execution_count": null,
   "metadata": {
    "id": "-Gup0_lQKIDr"
   },
   "outputs": [],
   "source": []
  },
  {
   "cell_type": "code",
   "execution_count": null,
   "metadata": {
    "id": "TfX8GXt2KIBb"
   },
   "outputs": [],
   "source": []
  },
  {
   "cell_type": "code",
   "execution_count": null,
   "metadata": {
    "id": "HyNPTv9oKH-u"
   },
   "outputs": [],
   "source": []
  },
  {
   "cell_type": "code",
   "execution_count": null,
   "metadata": {
    "id": "h5mmKVzyKH8m"
   },
   "outputs": [],
   "source": []
  },
  {
   "cell_type": "code",
   "execution_count": null,
   "metadata": {
    "id": "kcMNb7L-KH5_"
   },
   "outputs": [],
   "source": []
  },
  {
   "cell_type": "code",
   "execution_count": null,
   "metadata": {
    "id": "KTsqiHkrKH3t"
   },
   "outputs": [],
   "source": []
  },
  {
   "cell_type": "code",
   "execution_count": null,
   "metadata": {
    "id": "BY62DEepKH1Q"
   },
   "outputs": [],
   "source": []
  },
  {
   "cell_type": "code",
   "execution_count": null,
   "metadata": {
    "id": "jfTgBXboKHy-"
   },
   "outputs": [],
   "source": []
  },
  {
   "cell_type": "code",
   "execution_count": null,
   "metadata": {
    "id": "JqLMtPR2KHw3"
   },
   "outputs": [],
   "source": []
  },
  {
   "cell_type": "code",
   "execution_count": null,
   "metadata": {
    "id": "KdgOfFonKHug"
   },
   "outputs": [],
   "source": []
  },
  {
   "cell_type": "code",
   "execution_count": null,
   "metadata": {
    "id": "rtna5eusKHsO"
   },
   "outputs": [],
   "source": []
  },
  {
   "cell_type": "code",
   "execution_count": null,
   "metadata": {
    "id": "-lOcdc2fKHqB"
   },
   "outputs": [],
   "source": []
  },
  {
   "cell_type": "code",
   "execution_count": null,
   "metadata": {
    "id": "daTBM1hMKHnd"
   },
   "outputs": [],
   "source": []
  },
  {
   "cell_type": "code",
   "execution_count": null,
   "metadata": {
    "id": "kdzwrHx0KHlP"
   },
   "outputs": [],
   "source": []
  },
  {
   "cell_type": "code",
   "execution_count": null,
   "metadata": {
    "id": "xsnSl_zFKHiW"
   },
   "outputs": [],
   "source": []
  },
  {
   "cell_type": "code",
   "execution_count": null,
   "metadata": {
    "id": "Y3PeEhOYKHby"
   },
   "outputs": [],
   "source": []
  },
  {
   "cell_type": "code",
   "execution_count": null,
   "metadata": {
    "id": "OimtVRXGKHRi"
   },
   "outputs": [],
   "source": []
  },
  {
   "cell_type": "markdown",
   "metadata": {
    "id": "tv_wSuCwNjuQ"
   },
   "source": [
    "# Nowa sekcja"
   ]
  }
 ],
 "metadata": {
  "colab": {
   "authorship_tag": "ABX9TyNtLiZP7CcqEfvH7Yr7Kh1e",
   "gpuType": "A100",
   "mount_file_id": "1xzt9iDrTBMOYXBsN--HQw3bFk6QLYBC8",
   "provenance": []
  },
  "kernelspec": {
   "display_name": "Python 3 (ipykernel)",
   "language": "python",
   "name": "python3"
  },
  "language_info": {
   "codemirror_mode": {
    "name": "ipython",
    "version": 3
   },
   "file_extension": ".py",
   "mimetype": "text/x-python",
   "name": "python",
   "nbconvert_exporter": "python",
   "pygments_lexer": "ipython3",
   "version": "3.11.4"
  }
 },
 "nbformat": 4,
 "nbformat_minor": 1
}
