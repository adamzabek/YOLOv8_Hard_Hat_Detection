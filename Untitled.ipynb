{
 "cells": [
  {
   "cell_type": "code",
   "execution_count": 1,
   "id": "7ed5c028",
   "metadata": {},
   "outputs": [],
   "source": [
    "import cv2"
   ]
  },
  {
   "cell_type": "code",
   "execution_count": 2,
   "id": "b55977ea",
   "metadata": {},
   "outputs": [
    {
     "name": "stdout",
     "output_type": "stream",
     "text": [
      "Camera 0: MSMF\n"
     ]
    }
   ],
   "source": [
    "for i in range(10):\n",
    "    cap = cv2.VideoCapture(i)\n",
    "    if not cap.read()[0]:\n",
    "        break\n",
    "    print(f\"Camera {i}: {cap.getBackendName()}\")\n",
    "    cap.release()"
   ]
  },
  {
   "cell_type": "code",
   "execution_count": 3,
   "id": "1fc7d447",
   "metadata": {},
   "outputs": [],
   "source": [
    "cap = cv2.VideoCapture(0)"
   ]
  },
  {
   "cell_type": "code",
   "execution_count": 4,
   "id": "322ba9f7",
   "metadata": {},
   "outputs": [],
   "source": [
    "ret, frame = cap.read()"
   ]
  },
  {
   "cell_type": "code",
   "execution_count": 5,
   "id": "1d78b4b3",
   "metadata": {},
   "outputs": [],
   "source": [
    "cap.release()\n",
    "cv2.destroyAllWindows()"
   ]
  },
  {
   "cell_type": "code",
   "execution_count": 6,
   "id": "7a570660",
   "metadata": {},
   "outputs": [
    {
     "name": "stdout",
     "output_type": "stream",
     "text": [
      "Collecting streamlit_webrtc\n",
      "  Obtaining dependency information for streamlit_webrtc from https://files.pythonhosted.org/packages/d5/ee/b73d1309884140b70be3f3f93e6f61080f0e4f005dcefff4483d2f6729a1/streamlit_webrtc-0.47.1-py3-none-any.whl.metadata\n",
      "  Downloading streamlit_webrtc-0.47.1-py3-none-any.whl.metadata (18 kB)\n",
      "Collecting aiortc<2.0.0,>=1.4.0 (from streamlit_webrtc)\n",
      "  Downloading aiortc-1.5.0-cp311-cp311-win_amd64.whl (992 kB)\n",
      "     ---------------------------------------- 0.0/992.6 kB ? eta -:--:--\n",
      "     --- ----------------------------------- 81.9/992.6 kB 4.5 MB/s eta 0:00:01\n",
      "     -------------- ----------------------- 368.6/992.6 kB 4.5 MB/s eta 0:00:01\n",
      "     ------------------------------ ------- 788.5/992.6 kB 7.1 MB/s eta 0:00:01\n",
      "     -------------------------------------- 992.6/992.6 kB 7.0 MB/s eta 0:00:00\n",
      "Requirement already satisfied: packaging>=20.0 in c:\\users\\adamz\\anaconda3\\lib\\site-packages (from streamlit_webrtc) (23.0)\n",
      "Requirement already satisfied: streamlit>=0.84.1 in c:\\users\\adamz\\anaconda3\\lib\\site-packages (from streamlit_webrtc) (1.27.1)\n",
      "Collecting aioice<1.0.0,>=0.9.0 (from aiortc<2.0.0,>=1.4.0->streamlit_webrtc)\n",
      "  Downloading aioice-0.9.0-py3-none-any.whl (24 kB)\n",
      "Collecting av<11.0.0,>=9.0.0 (from aiortc<2.0.0,>=1.4.0->streamlit_webrtc)\n",
      "  Downloading av-10.0.0-cp311-cp311-win_amd64.whl (25.3 MB)\n",
      "     ---------------------------------------- 0.0/25.3 MB ? eta -:--:--\n",
      "      --------------------------------------- 0.5/25.3 MB 14.2 MB/s eta 0:00:02\n",
      "     - -------------------------------------- 0.9/25.3 MB 11.9 MB/s eta 0:00:03\n",
      "     -- ------------------------------------- 1.5/25.3 MB 12.1 MB/s eta 0:00:02\n",
      "     --- ------------------------------------ 2.1/25.3 MB 12.3 MB/s eta 0:00:02\n",
      "     ---- ----------------------------------- 2.7/25.3 MB 12.3 MB/s eta 0:00:02\n",
      "     ----- ---------------------------------- 3.3/25.3 MB 11.7 MB/s eta 0:00:02\n",
      "     ------ --------------------------------- 3.9/25.3 MB 11.8 MB/s eta 0:00:02\n",
      "     ------- -------------------------------- 4.5/25.3 MB 11.9 MB/s eta 0:00:02\n",
      "     -------- ------------------------------- 5.1/25.3 MB 12.0 MB/s eta 0:00:02\n",
      "     -------- ------------------------------- 5.7/25.3 MB 11.7 MB/s eta 0:00:02\n",
      "     --------- ------------------------------ 6.3/25.3 MB 11.8 MB/s eta 0:00:02\n",
      "     ---------- ----------------------------- 6.8/25.3 MB 11.8 MB/s eta 0:00:02\n",
      "     ----------- ---------------------------- 7.5/25.3 MB 11.9 MB/s eta 0:00:02\n",
      "     ------------ --------------------------- 7.9/25.3 MB 11.8 MB/s eta 0:00:02\n",
      "     ------------- -------------------------- 8.6/25.3 MB 11.9 MB/s eta 0:00:02\n",
      "     -------------- ------------------------- 9.0/25.3 MB 12.0 MB/s eta 0:00:02\n",
      "     --------------- ------------------------ 9.6/25.3 MB 11.8 MB/s eta 0:00:02\n",
      "     --------------- ----------------------- 10.1/25.3 MB 11.9 MB/s eta 0:00:02\n",
      "     ---------------- ---------------------- 10.6/25.3 MB 11.9 MB/s eta 0:00:02\n",
      "     ----------------- --------------------- 11.2/25.3 MB 11.7 MB/s eta 0:00:02\n",
      "     ------------------ -------------------- 11.7/25.3 MB 11.7 MB/s eta 0:00:02\n",
      "     ------------------- ------------------- 12.3/25.3 MB 11.7 MB/s eta 0:00:02\n",
      "     ------------------- ------------------- 12.9/25.3 MB 11.7 MB/s eta 0:00:02\n",
      "     -------------------- ------------------ 13.4/25.3 MB 11.7 MB/s eta 0:00:02\n",
      "     --------------------- ----------------- 13.9/25.3 MB 11.9 MB/s eta 0:00:01\n",
      "     ---------------------- ---------------- 14.3/25.3 MB 11.5 MB/s eta 0:00:01\n",
      "     ---------------------- ---------------- 14.8/25.3 MB 11.7 MB/s eta 0:00:01\n",
      "     ----------------------- --------------- 15.3/25.3 MB 11.7 MB/s eta 0:00:01\n",
      "     ------------------------ -------------- 15.8/25.3 MB 11.7 MB/s eta 0:00:01\n",
      "     ------------------------- ------------- 16.2/25.3 MB 11.7 MB/s eta 0:00:01\n",
      "     ------------------------- ------------- 16.8/25.3 MB 11.7 MB/s eta 0:00:01\n",
      "     -------------------------- ------------ 17.4/25.3 MB 11.7 MB/s eta 0:00:01\n",
      "     --------------------------- ----------- 18.0/25.3 MB 11.9 MB/s eta 0:00:01\n",
      "     ---------------------------- ---------- 18.5/25.3 MB 11.7 MB/s eta 0:00:01\n",
      "     ----------------------------- --------- 19.1/25.3 MB 11.7 MB/s eta 0:00:01\n",
      "     ------------------------------ -------- 19.6/25.3 MB 11.7 MB/s eta 0:00:01\n",
      "     ------------------------------ -------- 20.0/25.3 MB 11.7 MB/s eta 0:00:01\n",
      "     ------------------------------- ------- 20.6/25.3 MB 11.7 MB/s eta 0:00:01\n",
      "     -------------------------------- ------ 21.0/25.3 MB 11.7 MB/s eta 0:00:01\n",
      "     --------------------------------- ----- 21.5/25.3 MB 11.7 MB/s eta 0:00:01\n",
      "     ---------------------------------- ---- 22.1/25.3 MB 11.9 MB/s eta 0:00:01\n",
      "     ---------------------------------- ---- 22.7/25.3 MB 11.7 MB/s eta 0:00:01\n",
      "     ----------------------------------- --- 23.1/25.3 MB 11.7 MB/s eta 0:00:01\n",
      "     ------------------------------------ -- 23.7/25.3 MB 11.9 MB/s eta 0:00:01\n",
      "     ------------------------------------- - 24.3/25.3 MB 12.1 MB/s eta 0:00:01\n",
      "     --------------------------------------  24.9/25.3 MB 11.9 MB/s eta 0:00:01\n",
      "     --------------------------------------  25.3/25.3 MB 11.9 MB/s eta 0:00:01\n",
      "     --------------------------------------  25.3/25.3 MB 11.9 MB/s eta 0:00:01\n",
      "     --------------------------------------  25.3/25.3 MB 11.9 MB/s eta 0:00:01\n",
      "     --------------------------------------- 25.3/25.3 MB 10.4 MB/s eta 0:00:00\n",
      "Requirement already satisfied: cffi>=1.0.0 in c:\\users\\adamz\\anaconda3\\lib\\site-packages (from aiortc<2.0.0,>=1.4.0->streamlit_webrtc) (1.15.1)\n",
      "Requirement already satisfied: cryptography>=2.2 in c:\\users\\adamz\\anaconda3\\lib\\site-packages (from aiortc<2.0.0,>=1.4.0->streamlit_webrtc) (41.0.2)\n",
      "Collecting google-crc32c>=1.1 (from aiortc<2.0.0,>=1.4.0->streamlit_webrtc)\n",
      "  Downloading google_crc32c-1.5.0-cp311-cp311-win_amd64.whl (27 kB)\n",
      "Collecting pyee>=9.0.0 (from aiortc<2.0.0,>=1.4.0->streamlit_webrtc)\n",
      "  Obtaining dependency information for pyee>=9.0.0 from https://files.pythonhosted.org/packages/d4/af/fc5f3e9b33da66122348227fdb01c09f8d49ceb77ec712ae413797b66a9e/pyee-11.0.0-py3-none-any.whl.metadata\n",
      "  Downloading pyee-11.0.0-py3-none-any.whl.metadata (2.6 kB)\n",
      "Collecting pylibsrtp>=0.5.6 (from aiortc<2.0.0,>=1.4.0->streamlit_webrtc)\n",
      "  Downloading pylibsrtp-0.8.0-cp311-cp311-win_amd64.whl (46 kB)\n",
      "     ---------------------------------------- 0.0/46.8 kB ? eta -:--:--\n",
      "     ---------------------------------------- 46.8/46.8 kB ? eta 0:00:00\n",
      "Requirement already satisfied: pyopenssl>=23.1.0 in c:\\users\\adamz\\anaconda3\\lib\\site-packages (from aiortc<2.0.0,>=1.4.0->streamlit_webrtc) (23.2.0)\n",
      "Requirement already satisfied: altair<6,>=4.0 in c:\\users\\adamz\\anaconda3\\lib\\site-packages (from streamlit>=0.84.1->streamlit_webrtc) (5.1.1)\n",
      "Requirement already satisfied: blinker<2,>=1.0.0 in c:\\users\\adamz\\anaconda3\\lib\\site-packages (from streamlit>=0.84.1->streamlit_webrtc) (1.6.2)\n",
      "Requirement already satisfied: cachetools<6,>=4.0 in c:\\users\\adamz\\anaconda3\\lib\\site-packages (from streamlit>=0.84.1->streamlit_webrtc) (5.3.1)\n",
      "Requirement already satisfied: click<9,>=7.0 in c:\\users\\adamz\\anaconda3\\lib\\site-packages (from streamlit>=0.84.1->streamlit_webrtc) (8.0.4)\n",
      "Requirement already satisfied: importlib-metadata<7,>=1.4 in c:\\users\\adamz\\anaconda3\\lib\\site-packages (from streamlit>=0.84.1->streamlit_webrtc) (6.0.0)\n",
      "Requirement already satisfied: numpy<2,>=1.19.3 in c:\\users\\adamz\\anaconda3\\lib\\site-packages (from streamlit>=0.84.1->streamlit_webrtc) (1.24.3)\n",
      "Requirement already satisfied: pandas<3,>=1.3.0 in c:\\users\\adamz\\anaconda3\\lib\\site-packages (from streamlit>=0.84.1->streamlit_webrtc) (1.5.3)\n",
      "Requirement already satisfied: pillow<11,>=7.1.0 in c:\\users\\adamz\\anaconda3\\lib\\site-packages (from streamlit>=0.84.1->streamlit_webrtc) (9.4.0)\n",
      "Requirement already satisfied: protobuf<5,>=3.20 in c:\\users\\adamz\\anaconda3\\lib\\site-packages (from streamlit>=0.84.1->streamlit_webrtc) (4.24.3)\n",
      "Requirement already satisfied: pyarrow>=6.0 in c:\\users\\adamz\\anaconda3\\lib\\site-packages (from streamlit>=0.84.1->streamlit_webrtc) (11.0.0)\n",
      "Requirement already satisfied: python-dateutil<3,>=2.7.3 in c:\\users\\adamz\\anaconda3\\lib\\site-packages (from streamlit>=0.84.1->streamlit_webrtc) (2.8.2)\n",
      "Requirement already satisfied: requests<3,>=2.27 in c:\\users\\adamz\\anaconda3\\lib\\site-packages (from streamlit>=0.84.1->streamlit_webrtc) (2.31.0)\n",
      "Requirement already satisfied: rich<14,>=10.14.0 in c:\\users\\adamz\\anaconda3\\lib\\site-packages (from streamlit>=0.84.1->streamlit_webrtc) (13.5.3)\n",
      "Requirement already satisfied: tenacity<9,>=8.1.0 in c:\\users\\adamz\\anaconda3\\lib\\site-packages (from streamlit>=0.84.1->streamlit_webrtc) (8.2.2)\n",
      "Requirement already satisfied: toml<2,>=0.10.1 in c:\\users\\adamz\\anaconda3\\lib\\site-packages (from streamlit>=0.84.1->streamlit_webrtc) (0.10.2)\n",
      "Requirement already satisfied: typing-extensions<5,>=4.1.0 in c:\\users\\adamz\\anaconda3\\lib\\site-packages (from streamlit>=0.84.1->streamlit_webrtc) (4.5.0)\n",
      "Requirement already satisfied: tzlocal<6,>=1.1 in c:\\users\\adamz\\anaconda3\\lib\\site-packages (from streamlit>=0.84.1->streamlit_webrtc) (5.0.1)\n",
      "Requirement already satisfied: validators<1,>=0.2 in c:\\users\\adamz\\anaconda3\\lib\\site-packages (from streamlit>=0.84.1->streamlit_webrtc) (0.22.0)\n",
      "Requirement already satisfied: gitpython!=3.1.19,<4,>=3.0.7 in c:\\users\\adamz\\anaconda3\\lib\\site-packages (from streamlit>=0.84.1->streamlit_webrtc) (3.1.36)\n",
      "Requirement already satisfied: pydeck<1,>=0.8.0b4 in c:\\users\\adamz\\anaconda3\\lib\\site-packages (from streamlit>=0.84.1->streamlit_webrtc) (0.8.1b0)\n",
      "Requirement already satisfied: tornado<7,>=6.0.3 in c:\\users\\adamz\\anaconda3\\lib\\site-packages (from streamlit>=0.84.1->streamlit_webrtc) (6.3.2)\n",
      "Requirement already satisfied: watchdog>=2.1.5 in c:\\users\\adamz\\anaconda3\\lib\\site-packages (from streamlit>=0.84.1->streamlit_webrtc) (2.1.6)\n",
      "Collecting dnspython>=2.0.0 (from aioice<1.0.0,>=0.9.0->aiortc<2.0.0,>=1.4.0->streamlit_webrtc)\n",
      "  Obtaining dependency information for dnspython>=2.0.0 from https://files.pythonhosted.org/packages/f6/b4/0a9bee52c50f226a3cbfb54263d02bb421c7f2adc136520729c2c689c1e5/dnspython-2.4.2-py3-none-any.whl.metadata\n",
      "  Downloading dnspython-2.4.2-py3-none-any.whl.metadata (4.9 kB)\n",
      "Collecting ifaddr>=0.2.0 (from aioice<1.0.0,>=0.9.0->aiortc<2.0.0,>=1.4.0->streamlit_webrtc)\n",
      "  Downloading ifaddr-0.2.0-py3-none-any.whl (12 kB)\n",
      "Requirement already satisfied: jinja2 in c:\\users\\adamz\\anaconda3\\lib\\site-packages (from altair<6,>=4.0->streamlit>=0.84.1->streamlit_webrtc) (3.1.2)\n",
      "Requirement already satisfied: jsonschema>=3.0 in c:\\users\\adamz\\anaconda3\\lib\\site-packages (from altair<6,>=4.0->streamlit>=0.84.1->streamlit_webrtc) (4.17.3)\n",
      "Requirement already satisfied: toolz in c:\\users\\adamz\\anaconda3\\lib\\site-packages (from altair<6,>=4.0->streamlit>=0.84.1->streamlit_webrtc) (0.12.0)\n",
      "Requirement already satisfied: pycparser in c:\\users\\adamz\\anaconda3\\lib\\site-packages (from cffi>=1.0.0->aiortc<2.0.0,>=1.4.0->streamlit_webrtc) (2.21)\n",
      "Requirement already satisfied: colorama in c:\\users\\adamz\\anaconda3\\lib\\site-packages (from click<9,>=7.0->streamlit>=0.84.1->streamlit_webrtc) (0.4.6)\n",
      "Requirement already satisfied: gitdb<5,>=4.0.1 in c:\\users\\adamz\\anaconda3\\lib\\site-packages (from gitpython!=3.1.19,<4,>=3.0.7->streamlit>=0.84.1->streamlit_webrtc) (4.0.10)\n",
      "Requirement already satisfied: zipp>=0.5 in c:\\users\\adamz\\anaconda3\\lib\\site-packages (from importlib-metadata<7,>=1.4->streamlit>=0.84.1->streamlit_webrtc) (3.11.0)\n",
      "Requirement already satisfied: pytz>=2020.1 in c:\\users\\adamz\\anaconda3\\lib\\site-packages (from pandas<3,>=1.3.0->streamlit>=0.84.1->streamlit_webrtc) (2022.7)\n",
      "Requirement already satisfied: six>=1.5 in c:\\users\\adamz\\anaconda3\\lib\\site-packages (from python-dateutil<3,>=2.7.3->streamlit>=0.84.1->streamlit_webrtc) (1.16.0)\n",
      "Requirement already satisfied: charset-normalizer<4,>=2 in c:\\users\\adamz\\anaconda3\\lib\\site-packages (from requests<3,>=2.27->streamlit>=0.84.1->streamlit_webrtc) (2.0.4)\n",
      "Requirement already satisfied: idna<4,>=2.5 in c:\\users\\adamz\\anaconda3\\lib\\site-packages (from requests<3,>=2.27->streamlit>=0.84.1->streamlit_webrtc) (3.4)\n",
      "Requirement already satisfied: urllib3<3,>=1.21.1 in c:\\users\\adamz\\anaconda3\\lib\\site-packages (from requests<3,>=2.27->streamlit>=0.84.1->streamlit_webrtc) (1.26.16)\n",
      "Requirement already satisfied: certifi>=2017.4.17 in c:\\users\\adamz\\anaconda3\\lib\\site-packages (from requests<3,>=2.27->streamlit>=0.84.1->streamlit_webrtc) (2023.7.22)\n",
      "Requirement already satisfied: markdown-it-py>=2.2.0 in c:\\users\\adamz\\anaconda3\\lib\\site-packages (from rich<14,>=10.14.0->streamlit>=0.84.1->streamlit_webrtc) (2.2.0)\n",
      "Requirement already satisfied: pygments<3.0.0,>=2.13.0 in c:\\users\\adamz\\anaconda3\\lib\\site-packages (from rich<14,>=10.14.0->streamlit>=0.84.1->streamlit_webrtc) (2.15.1)\n",
      "Requirement already satisfied: tzdata in c:\\users\\adamz\\anaconda3\\lib\\site-packages (from tzlocal<6,>=1.1->streamlit>=0.84.1->streamlit_webrtc) (2023.3)\n",
      "Requirement already satisfied: smmap<6,>=3.0.1 in c:\\users\\adamz\\anaconda3\\lib\\site-packages (from gitdb<5,>=4.0.1->gitpython!=3.1.19,<4,>=3.0.7->streamlit>=0.84.1->streamlit_webrtc) (5.0.1)\n",
      "Requirement already satisfied: MarkupSafe>=2.0 in c:\\users\\adamz\\anaconda3\\lib\\site-packages (from jinja2->altair<6,>=4.0->streamlit>=0.84.1->streamlit_webrtc) (2.1.1)\n",
      "Requirement already satisfied: attrs>=17.4.0 in c:\\users\\adamz\\anaconda3\\lib\\site-packages (from jsonschema>=3.0->altair<6,>=4.0->streamlit>=0.84.1->streamlit_webrtc) (22.1.0)\n",
      "Requirement already satisfied: pyrsistent!=0.17.0,!=0.17.1,!=0.17.2,>=0.14.0 in c:\\users\\adamz\\anaconda3\\lib\\site-packages (from jsonschema>=3.0->altair<6,>=4.0->streamlit>=0.84.1->streamlit_webrtc) (0.18.0)\n",
      "Requirement already satisfied: mdurl~=0.1 in c:\\users\\adamz\\anaconda3\\lib\\site-packages (from markdown-it-py>=2.2.0->rich<14,>=10.14.0->streamlit>=0.84.1->streamlit_webrtc) (0.1.0)\n",
      "Downloading streamlit_webrtc-0.47.1-py3-none-any.whl (874 kB)\n",
      "   ---------------------------------------- 0.0/874.7 kB ? eta -:--:--\n",
      "   --------------------- ----------------- 481.3/874.7 kB 10.0 MB/s eta 0:00:01\n",
      "   ---------------------------------------- 874.7/874.7 kB 9.2 MB/s eta 0:00:00\n",
      "Downloading pyee-11.0.0-py3-none-any.whl (15 kB)\n",
      "Downloading dnspython-2.4.2-py3-none-any.whl (300 kB)\n",
      "   ---------------------------------------- 0.0/300.4 kB ? eta -:--:--\n",
      "   ---------------------------------------- 300.4/300.4 kB 9.4 MB/s eta 0:00:00\n",
      "Installing collected packages: ifaddr, av, pyee, google-crc32c, dnspython, pylibsrtp, aioice, aiortc, streamlit_webrtc\n",
      "Successfully installed aioice-0.9.0 aiortc-1.5.0 av-10.0.0 dnspython-2.4.2 google-crc32c-1.5.0 ifaddr-0.2.0 pyee-11.0.0 pylibsrtp-0.8.0 streamlit_webrtc-0.47.1\n"
     ]
    }
   ],
   "source": [
    "!pip install streamlit_webrtc"
   ]
  },
  {
   "cell_type": "code",
   "execution_count": 7,
   "id": "504be069",
   "metadata": {},
   "outputs": [],
   "source": [
    "import av"
   ]
  },
  {
   "cell_type": "code",
   "execution_count": 8,
   "id": "48b1e97b",
   "metadata": {},
   "outputs": [
    {
     "ename": "ModuleNotFoundError",
     "evalue": "No module named 'twilio'",
     "output_type": "error",
     "traceback": [
      "\u001b[1;31m---------------------------------------------------------------------------\u001b[0m",
      "\u001b[1;31mModuleNotFoundError\u001b[0m                       Traceback (most recent call last)",
      "Cell \u001b[1;32mIn[8], line 1\u001b[0m\n\u001b[1;32m----> 1\u001b[0m \u001b[38;5;28;01mimport\u001b[39;00m \u001b[38;5;21;01mtwilio\u001b[39;00m\n",
      "\u001b[1;31mModuleNotFoundError\u001b[0m: No module named 'twilio'"
     ]
    }
   ],
   "source": [
    "import twilio"
   ]
  },
  {
   "cell_type": "code",
   "execution_count": 9,
   "id": "513c0b9e",
   "metadata": {},
   "outputs": [
    {
     "name": "stdout",
     "output_type": "stream",
     "text": [
      "Collecting twilio\n",
      "  Obtaining dependency information for twilio from https://files.pythonhosted.org/packages/2b/e2/58dcc7c56cb15d2f8b3914c09c4aabd65e68bbbd5e5267e32ae71ab072f1/twilio-8.9.1-py2.py3-none-any.whl.metadata\n",
      "  Downloading twilio-8.9.1-py2.py3-none-any.whl.metadata (12 kB)\n",
      "Requirement already satisfied: requests>=2.0.0 in c:\\users\\adamz\\anaconda3\\lib\\site-packages (from twilio) (2.31.0)\n",
      "Requirement already satisfied: PyJWT<3.0.0,>=2.0.0 in c:\\users\\adamz\\anaconda3\\lib\\site-packages (from twilio) (2.4.0)\n",
      "Collecting aiohttp>=3.8.4 (from twilio)\n",
      "  Obtaining dependency information for aiohttp>=3.8.4 from https://files.pythonhosted.org/packages/21/4e/452858698e53ddf06ea137eac268db535c9605394c27236f9986168dd82f/aiohttp-3.8.5-cp311-cp311-win_amd64.whl.metadata\n",
      "  Downloading aiohttp-3.8.5-cp311-cp311-win_amd64.whl.metadata (8.0 kB)\n",
      "Collecting aiohttp-retry>=2.8.3 (from twilio)\n",
      "  Downloading aiohttp_retry-2.8.3-py3-none-any.whl (9.8 kB)\n",
      "Requirement already satisfied: attrs>=17.3.0 in c:\\users\\adamz\\anaconda3\\lib\\site-packages (from aiohttp>=3.8.4->twilio) (22.1.0)\n",
      "Requirement already satisfied: charset-normalizer<4.0,>=2.0 in c:\\users\\adamz\\anaconda3\\lib\\site-packages (from aiohttp>=3.8.4->twilio) (2.0.4)\n",
      "Requirement already satisfied: multidict<7.0,>=4.5 in c:\\users\\adamz\\anaconda3\\lib\\site-packages (from aiohttp>=3.8.4->twilio) (6.0.2)\n",
      "Requirement already satisfied: async-timeout<5.0,>=4.0.0a3 in c:\\users\\adamz\\anaconda3\\lib\\site-packages (from aiohttp>=3.8.4->twilio) (4.0.2)\n",
      "Requirement already satisfied: yarl<2.0,>=1.0 in c:\\users\\adamz\\anaconda3\\lib\\site-packages (from aiohttp>=3.8.4->twilio) (1.8.1)\n",
      "Requirement already satisfied: frozenlist>=1.1.1 in c:\\users\\adamz\\anaconda3\\lib\\site-packages (from aiohttp>=3.8.4->twilio) (1.3.3)\n",
      "Requirement already satisfied: aiosignal>=1.1.2 in c:\\users\\adamz\\anaconda3\\lib\\site-packages (from aiohttp>=3.8.4->twilio) (1.2.0)\n",
      "Requirement already satisfied: idna<4,>=2.5 in c:\\users\\adamz\\anaconda3\\lib\\site-packages (from requests>=2.0.0->twilio) (3.4)\n",
      "Requirement already satisfied: urllib3<3,>=1.21.1 in c:\\users\\adamz\\anaconda3\\lib\\site-packages (from requests>=2.0.0->twilio) (1.26.16)\n",
      "Requirement already satisfied: certifi>=2017.4.17 in c:\\users\\adamz\\anaconda3\\lib\\site-packages (from requests>=2.0.0->twilio) (2023.7.22)\n",
      "Downloading twilio-8.9.1-py2.py3-none-any.whl (1.8 MB)\n",
      "   ---------------------------------------- 0.0/1.8 MB ? eta -:--:--\n",
      "   -- ------------------------------------- 0.1/1.8 MB 3.3 MB/s eta 0:00:01\n",
      "   -------- ------------------------------- 0.4/1.8 MB 4.5 MB/s eta 0:00:01\n",
      "   ----------------- ---------------------- 0.8/1.8 MB 6.1 MB/s eta 0:00:01\n",
      "   ------------------------------ --------- 1.3/1.8 MB 7.7 MB/s eta 0:00:01\n",
      "   ---------------------------------------  1.8/1.8 MB 8.6 MB/s eta 0:00:01\n",
      "   ---------------------------------------- 1.8/1.8 MB 8.0 MB/s eta 0:00:00\n",
      "Downloading aiohttp-3.8.5-cp311-cp311-win_amd64.whl (320 kB)\n",
      "   ---------------------------------------- 0.0/320.6 kB ? eta -:--:--\n",
      "   --------------------------------------- 320.6/320.6 kB 10.0 MB/s eta 0:00:00\n",
      "Installing collected packages: aiohttp, aiohttp-retry, twilio\n",
      "  Attempting uninstall: aiohttp\n",
      "    Found existing installation: aiohttp 3.8.3\n",
      "    Uninstalling aiohttp-3.8.3:\n",
      "      Successfully uninstalled aiohttp-3.8.3\n",
      "Successfully installed aiohttp-3.8.5 aiohttp-retry-2.8.3 twilio-8.9.1\n"
     ]
    }
   ],
   "source": [
    "!pip install twilio"
   ]
  },
  {
   "cell_type": "code",
   "execution_count": null,
   "id": "db32cba8",
   "metadata": {},
   "outputs": [],
   "source": []
  }
 ],
 "metadata": {
  "kernelspec": {
   "display_name": "Python 3 (ipykernel)",
   "language": "python",
   "name": "python3"
  },
  "language_info": {
   "codemirror_mode": {
    "name": "ipython",
    "version": 3
   },
   "file_extension": ".py",
   "mimetype": "text/x-python",
   "name": "python",
   "nbconvert_exporter": "python",
   "pygments_lexer": "ipython3",
   "version": "3.11.4"
  }
 },
 "nbformat": 4,
 "nbformat_minor": 5
}
